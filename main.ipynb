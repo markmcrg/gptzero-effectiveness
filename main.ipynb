{
  "nbformat": 4,
  "nbformat_minor": 0,
  "metadata": {
    "colab": {
      "provenance": [],
      "gpuType": "T4"
    },
    "kernelspec": {
      "name": "python3",
      "display_name": "Python 3"
    },
    "language_info": {
      "name": "python"
    },
    "accelerator": "GPU"
  },
  "cells": [
    {
      "cell_type": "code",
      "source": [
        "!git clone https://github.com/BurhanUlTayyab/GPTZero"
      ],
      "metadata": {
        "colab": {
          "base_uri": "https://localhost:8080/"
        },
        "id": "2u4LknsrhcMA",
        "outputId": "99ef1d90-9954-451a-fad9-d6e3daea9bd2"
      },
      "execution_count": null,
      "outputs": [
        {
          "output_type": "stream",
          "name": "stdout",
          "text": [
            "Cloning into 'GPTZero'...\n",
            "remote: Enumerating objects: 129, done.\u001b[K\n",
            "remote: Counting objects: 100% (25/25), done.\u001b[K\n",
            "remote: Compressing objects: 100% (18/18), done.\u001b[K\n",
            "remote: Total 129 (delta 18), reused 7 (delta 7), pack-reused 104\u001b[K\n",
            "Receiving objects: 100% (129/129), 28.02 KiB | 4.67 MiB/s, done.\n",
            "Resolving deltas: 100% (66/66), done.\n"
          ]
        }
      ]
    },
    {
      "cell_type": "code",
      "execution_count": null,
      "metadata": {
        "id": "l-VRtrByf2qF"
      },
      "outputs": [],
      "source": [
        "!cd GPTZero&& pip install -r requirements.txt --quiet"
      ]
    },
    {
      "cell_type": "code",
      "source": [
        "!pip install tensorrt --quiet"
      ],
      "metadata": {
        "id": "O3vON8IwmEBb"
      },
      "execution_count": null,
      "outputs": []
    },
    {
      "cell_type": "code",
      "source": [
        "!cd GPTZero && python local_infer.py"
      ],
      "metadata": {
        "colab": {
          "base_uri": "https://localhost:8080/"
        },
        "id": "IojKO62BlhDN",
        "outputId": "65595ff9-4f9e-4c81-b390-766eb2791cfc"
      },
      "execution_count": null,
      "outputs": [
        {
          "output_type": "stream",
          "name": "stdout",
          "text": [
            "2023-06-05 17:25:00.804768: W tensorflow/compiler/tf2tensorrt/utils/py_utils.cc:38] TF-TRT Warning: Could not find TensorRT\n",
            "Downloading (…)lve/main/config.json: 100% 665/665 [00:00<00:00, 4.37MB/s]\n",
            "Downloading pytorch_model.bin: 100% 548M/548M [00:02<00:00, 188MB/s]\n",
            "Downloading (…)neration_config.json: 100% 124/124 [00:00<00:00, 700kB/s]\n",
            "Downloading (…)olve/main/vocab.json: 100% 1.04M/1.04M [00:00<00:00, 14.2MB/s]\n",
            "Downloading (…)olve/main/merges.txt: 100% 456k/456k [00:00<00:00, 9.85MB/s]\n",
            "Downloading (…)/main/tokenizer.json: 100% 1.36M/1.36M [00:00<00:00, 20.0MB/s]\n",
            "Please enter your sentence: (Press Enter twice to start processing)\n",
            "Climate change is a pressing global issue that continues to escalate and demand immediate attention. It refers to long-term shifts in weather patterns and average temperatures on Earth, primarily caused by human activities, particularly the burning of fossil fuels and deforestation. The consequences of climate change are far-reaching and diverse, affecting various aspects of our planet's ecosystems and human societies.\n",
            "\n",
            "Perplexity 12\n",
            "Perplexity per line 21.0\n",
            "Burstiness 31\n"
          ]
        }
      ]
    },
    {
      "cell_type": "code",
      "source": [],
      "metadata": {
        "id": "WIOU6ypwlyvr"
      },
      "execution_count": null,
      "outputs": []
    }
  ]
}
